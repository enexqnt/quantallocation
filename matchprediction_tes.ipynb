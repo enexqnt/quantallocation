{
 "cells": [
  {
   "cell_type": "code",
   "execution_count": 1,
   "metadata": {},
   "outputs": [],
   "source": [
    "import pandas as pd\n",
    "import numpy as np\n",
    "from tqdm import tqdm\n",
    "import itertools\n",
    "\n",
    "import matplotlib.pyplot as plt\n",
    "import seaborn as sns\n",
    "\n",
    "from os import listdir\n",
    "from os.path import isfile, join\n",
    "\n",
    "from sklearn.ensemble import RandomForestClassifier\n",
    "from sklearn.model_selection import TimeSeriesSplit\n",
    "from sklearn.metrics import balanced_accuracy_score\n",
    "from sklearn.preprocessing import LabelEncoder\n",
    "\n",
    "\n",
    "import warnings\n",
    "warnings.filterwarnings(\"ignore\")"
   ]
  },
  {
   "cell_type": "markdown",
   "metadata": {},
   "source": [
    "Code inspired by:\n",
    "**Stübinger, Johannes and Julian Knoll. “Beat the Bookmaker - Winning Football Bets with Machine Learning** (Best Application Paper).” SGAI Conf. (2018)."
   ]
  },
  {
   "cell_type": "markdown",
   "metadata": {},
   "source": [
    "# Import data\n",
    "\n",
    "Source: https://www.football-data.co.uk/"
   ]
  },
  {
   "cell_type": "code",
   "execution_count": 2,
   "metadata": {},
   "outputs": [],
   "source": [
    "# merge all csv files into one pandas dataframe:\n",
    "onlyfiles = [f for f in listdir('premier') if isfile(join('premier', f))]\n",
    "\n",
    "for i in onlyfiles:\n",
    "    if i==onlyfiles[0]:\n",
    "        data=pd.read_csv('premier/'+i,parse_dates=True,index_col='Date',dayfirst=True)\n",
    "    else:\n",
    "        data=pd.concat([pd.read_csv('premier/'+i,parse_dates=True,index_col='Date',dayfirst=True),data],axis=0)\n",
    "\n",
    "# sort dataframe\n",
    "data=data.sort_index().iloc[:-1]"
   ]
  },
  {
   "cell_type": "markdown",
   "metadata": {},
   "source": [
    "# Data cleaning"
   ]
  },
  {
   "cell_type": "code",
   "execution_count": 3,
   "metadata": {},
   "outputs": [],
   "source": [
    "data_=data.iloc[:,2:data.columns.to_list().index('B365H')].drop(['HTHG','HTAG','HTR'],axis=1)\n",
    "data_['y']=data_['FTAG']-data['FTHG']\n",
    "data_=data_.drop(['FTHG','FTAG'],axis=1)\n",
    "data_.dropna(inplace=True)"
   ]
  },
  {
   "cell_type": "code",
   "execution_count": 4,
   "metadata": {},
   "outputs": [
    {
     "data": {
      "text/html": [
       "<div>\n",
       "<style scoped>\n",
       "    .dataframe tbody tr th:only-of-type {\n",
       "        vertical-align: middle;\n",
       "    }\n",
       "\n",
       "    .dataframe tbody tr th {\n",
       "        vertical-align: top;\n",
       "    }\n",
       "\n",
       "    .dataframe thead th {\n",
       "        text-align: right;\n",
       "    }\n",
       "</style>\n",
       "<table border=\"1\" class=\"dataframe\">\n",
       "  <thead>\n",
       "    <tr style=\"text-align: right;\">\n",
       "      <th></th>\n",
       "      <th>HomeTeam</th>\n",
       "      <th>AwayTeam</th>\n",
       "      <th>FTR</th>\n",
       "      <th>HS</th>\n",
       "      <th>AS</th>\n",
       "      <th>HST</th>\n",
       "      <th>AST</th>\n",
       "      <th>HF</th>\n",
       "      <th>AF</th>\n",
       "      <th>HC</th>\n",
       "      <th>AC</th>\n",
       "      <th>HY</th>\n",
       "      <th>AY</th>\n",
       "      <th>HR</th>\n",
       "      <th>AR</th>\n",
       "      <th>y</th>\n",
       "    </tr>\n",
       "    <tr>\n",
       "      <th>Date</th>\n",
       "      <th></th>\n",
       "      <th></th>\n",
       "      <th></th>\n",
       "      <th></th>\n",
       "      <th></th>\n",
       "      <th></th>\n",
       "      <th></th>\n",
       "      <th></th>\n",
       "      <th></th>\n",
       "      <th></th>\n",
       "      <th></th>\n",
       "      <th></th>\n",
       "      <th></th>\n",
       "      <th></th>\n",
       "      <th></th>\n",
       "      <th></th>\n",
       "    </tr>\n",
       "  </thead>\n",
       "  <tbody>\n",
       "    <tr>\n",
       "      <th>2007-08-10</th>\n",
       "      <td>126</td>\n",
       "      <td>115</td>\n",
       "      <td>1</td>\n",
       "      <td>16.0</td>\n",
       "      <td>10.0</td>\n",
       "      <td>7.0</td>\n",
       "      <td>4.0</td>\n",
       "      <td>19.0</td>\n",
       "      <td>23.0</td>\n",
       "      <td>9.0</td>\n",
       "      <td>0.0</td>\n",
       "      <td>4.0</td>\n",
       "      <td>3.0</td>\n",
       "      <td>0.0</td>\n",
       "      <td>0.0</td>\n",
       "      <td>0.0</td>\n",
       "    </tr>\n",
       "    <tr>\n",
       "      <th>2007-08-11</th>\n",
       "      <td>10</td>\n",
       "      <td>61</td>\n",
       "      <td>2</td>\n",
       "      <td>27.0</td>\n",
       "      <td>6.0</td>\n",
       "      <td>13.0</td>\n",
       "      <td>0.0</td>\n",
       "      <td>14.0</td>\n",
       "      <td>13.0</td>\n",
       "      <td>4.0</td>\n",
       "      <td>1.0</td>\n",
       "      <td>0.0</td>\n",
       "      <td>3.0</td>\n",
       "      <td>0.0</td>\n",
       "      <td>0.0</td>\n",
       "      <td>-3.0</td>\n",
       "    </tr>\n",
       "    <tr>\n",
       "      <th>2007-08-11</th>\n",
       "      <td>17</td>\n",
       "      <td>140</td>\n",
       "      <td>1</td>\n",
       "      <td>17.0</td>\n",
       "      <td>20.0</td>\n",
       "      <td>4.0</td>\n",
       "      <td>9.0</td>\n",
       "      <td>15.0</td>\n",
       "      <td>17.0</td>\n",
       "      <td>7.0</td>\n",
       "      <td>6.0</td>\n",
       "      <td>1.0</td>\n",
       "      <td>2.0</td>\n",
       "      <td>0.0</td>\n",
       "      <td>0.0</td>\n",
       "      <td>0.0</td>\n",
       "    </tr>\n",
       "    <tr>\n",
       "      <th>2007-08-11</th>\n",
       "      <td>43</td>\n",
       "      <td>63</td>\n",
       "      <td>2</td>\n",
       "      <td>19.0</td>\n",
       "      <td>10.0</td>\n",
       "      <td>5.0</td>\n",
       "      <td>3.0</td>\n",
       "      <td>13.0</td>\n",
       "      <td>13.0</td>\n",
       "      <td>6.0</td>\n",
       "      <td>5.0</td>\n",
       "      <td>2.0</td>\n",
       "      <td>1.0</td>\n",
       "      <td>0.0</td>\n",
       "      <td>0.0</td>\n",
       "      <td>-1.0</td>\n",
       "    </tr>\n",
       "    <tr>\n",
       "      <th>2007-08-11</th>\n",
       "      <td>60</td>\n",
       "      <td>59</td>\n",
       "      <td>0</td>\n",
       "      <td>10.0</td>\n",
       "      <td>14.0</td>\n",
       "      <td>2.0</td>\n",
       "      <td>8.0</td>\n",
       "      <td>20.0</td>\n",
       "      <td>18.0</td>\n",
       "      <td>6.0</td>\n",
       "      <td>4.0</td>\n",
       "      <td>3.0</td>\n",
       "      <td>1.0</td>\n",
       "      <td>0.0</td>\n",
       "      <td>0.0</td>\n",
       "      <td>1.0</td>\n",
       "    </tr>\n",
       "    <tr>\n",
       "      <th>...</th>\n",
       "      <td>...</td>\n",
       "      <td>...</td>\n",
       "      <td>...</td>\n",
       "      <td>...</td>\n",
       "      <td>...</td>\n",
       "      <td>...</td>\n",
       "      <td>...</td>\n",
       "      <td>...</td>\n",
       "      <td>...</td>\n",
       "      <td>...</td>\n",
       "      <td>...</td>\n",
       "      <td>...</td>\n",
       "      <td>...</td>\n",
       "      <td>...</td>\n",
       "      <td>...</td>\n",
       "      <td>...</td>\n",
       "    </tr>\n",
       "    <tr>\n",
       "      <th>2022-09-17</th>\n",
       "      <td>145</td>\n",
       "      <td>88</td>\n",
       "      <td>0</td>\n",
       "      <td>6.0</td>\n",
       "      <td>16.0</td>\n",
       "      <td>1.0</td>\n",
       "      <td>7.0</td>\n",
       "      <td>7.0</td>\n",
       "      <td>9.0</td>\n",
       "      <td>5.0</td>\n",
       "      <td>7.0</td>\n",
       "      <td>2.0</td>\n",
       "      <td>1.0</td>\n",
       "      <td>1.0</td>\n",
       "      <td>0.0</td>\n",
       "      <td>3.0</td>\n",
       "    </tr>\n",
       "    <tr>\n",
       "      <th>2022-09-17</th>\n",
       "      <td>93</td>\n",
       "      <td>20</td>\n",
       "      <td>1</td>\n",
       "      <td>20.0</td>\n",
       "      <td>10.0</td>\n",
       "      <td>7.0</td>\n",
       "      <td>3.0</td>\n",
       "      <td>10.0</td>\n",
       "      <td>11.0</td>\n",
       "      <td>8.0</td>\n",
       "      <td>1.0</td>\n",
       "      <td>2.0</td>\n",
       "      <td>2.0</td>\n",
       "      <td>0.0</td>\n",
       "      <td>0.0</td>\n",
       "      <td>0.0</td>\n",
       "    </tr>\n",
       "    <tr>\n",
       "      <th>2022-09-17</th>\n",
       "      <td>131</td>\n",
       "      <td>79</td>\n",
       "      <td>2</td>\n",
       "      <td>16.0</td>\n",
       "      <td>19.0</td>\n",
       "      <td>11.0</td>\n",
       "      <td>7.0</td>\n",
       "      <td>9.0</td>\n",
       "      <td>9.0</td>\n",
       "      <td>6.0</td>\n",
       "      <td>1.0</td>\n",
       "      <td>1.0</td>\n",
       "      <td>2.0</td>\n",
       "      <td>0.0</td>\n",
       "      <td>0.0</td>\n",
       "      <td>-4.0</td>\n",
       "    </tr>\n",
       "    <tr>\n",
       "      <th>2022-09-18</th>\n",
       "      <td>22</td>\n",
       "      <td>2</td>\n",
       "      <td>0</td>\n",
       "      <td>5.0</td>\n",
       "      <td>13.0</td>\n",
       "      <td>2.0</td>\n",
       "      <td>7.0</td>\n",
       "      <td>10.0</td>\n",
       "      <td>10.0</td>\n",
       "      <td>3.0</td>\n",
       "      <td>3.0</td>\n",
       "      <td>0.0</td>\n",
       "      <td>2.0</td>\n",
       "      <td>0.0</td>\n",
       "      <td>0.0</td>\n",
       "      <td>3.0</td>\n",
       "    </tr>\n",
       "    <tr>\n",
       "      <th>2022-09-18</th>\n",
       "      <td>47</td>\n",
       "      <td>142</td>\n",
       "      <td>2</td>\n",
       "      <td>7.0</td>\n",
       "      <td>14.0</td>\n",
       "      <td>2.0</td>\n",
       "      <td>4.0</td>\n",
       "      <td>8.0</td>\n",
       "      <td>11.0</td>\n",
       "      <td>5.0</td>\n",
       "      <td>14.0</td>\n",
       "      <td>3.0</td>\n",
       "      <td>1.0</td>\n",
       "      <td>0.0</td>\n",
       "      <td>0.0</td>\n",
       "      <td>-1.0</td>\n",
       "    </tr>\n",
       "  </tbody>\n",
       "</table>\n",
       "<p>20995 rows × 16 columns</p>\n",
       "</div>"
      ],
      "text/plain": [
       "            HomeTeam  AwayTeam  FTR    HS    AS   HST  AST    HF    AF   HC  \\\n",
       "Date                                                                          \n",
       "2007-08-10       126       115    1  16.0  10.0   7.0  4.0  19.0  23.0  9.0   \n",
       "2007-08-11        10        61    2  27.0   6.0  13.0  0.0  14.0  13.0  4.0   \n",
       "2007-08-11        17       140    1  17.0  20.0   4.0  9.0  15.0  17.0  7.0   \n",
       "2007-08-11        43        63    2  19.0  10.0   5.0  3.0  13.0  13.0  6.0   \n",
       "2007-08-11        60        59    0  10.0  14.0   2.0  8.0  20.0  18.0  6.0   \n",
       "...              ...       ...  ...   ...   ...   ...  ...   ...   ...  ...   \n",
       "2022-09-17       145        88    0   6.0  16.0   1.0  7.0   7.0   9.0  5.0   \n",
       "2022-09-17        93        20    1  20.0  10.0   7.0  3.0  10.0  11.0  8.0   \n",
       "2022-09-17       131        79    2  16.0  19.0  11.0  7.0   9.0   9.0  6.0   \n",
       "2022-09-18        22         2    0   5.0  13.0   2.0  7.0  10.0  10.0  3.0   \n",
       "2022-09-18        47       142    2   7.0  14.0   2.0  4.0   8.0  11.0  5.0   \n",
       "\n",
       "              AC   HY   AY   HR   AR    y  \n",
       "Date                                       \n",
       "2007-08-10   0.0  4.0  3.0  0.0  0.0  0.0  \n",
       "2007-08-11   1.0  0.0  3.0  0.0  0.0 -3.0  \n",
       "2007-08-11   6.0  1.0  2.0  0.0  0.0  0.0  \n",
       "2007-08-11   5.0  2.0  1.0  0.0  0.0 -1.0  \n",
       "2007-08-11   4.0  3.0  1.0  0.0  0.0  1.0  \n",
       "...          ...  ...  ...  ...  ...  ...  \n",
       "2022-09-17   7.0  2.0  1.0  1.0  0.0  3.0  \n",
       "2022-09-17   1.0  2.0  2.0  0.0  0.0  0.0  \n",
       "2022-09-17   1.0  1.0  2.0  0.0  0.0 -4.0  \n",
       "2022-09-18   3.0  0.0  2.0  0.0  0.0  3.0  \n",
       "2022-09-18  14.0  3.0  1.0  0.0  0.0 -1.0  \n",
       "\n",
       "[20995 rows x 16 columns]"
      ]
     },
     "execution_count": 4,
     "metadata": {},
     "output_type": "execute_result"
    }
   ],
   "source": [
    "# convert categorical variables into numbers\n",
    "l=LabelEncoder()\n",
    "l.fit(np.union1d(data_.iloc[:,0].values,data_.iloc[:,1].values))\n",
    "data_.iloc[:,0]=l.transform(data_.iloc[:,0].values)\n",
    "data_.iloc[:,1]=l.transform(data_.iloc[:,1].values)\n",
    "\n",
    "ll=LabelEncoder()\n",
    "ll.fit(data_.iloc[:,2].values)\n",
    "data_.iloc[:,2]=ll.transform(data_.iloc[:,2].values)\n",
    "data_"
   ]
  },
  {
   "cell_type": "markdown",
   "metadata": {},
   "source": [
    "# Model traning"
   ]
  },
  {
   "cell_type": "code",
   "execution_count": 5,
   "metadata": {},
   "outputs": [],
   "source": [
    "# define a percentage split between train and test\n",
    "percentage=0.15\n",
    "\n",
    "df_train=data_.iloc[:int(len(data_)*percentage)]\n",
    "\n",
    "# input hyperparameters for model fitting:\n",
    "parameters={'random_state': [100],'max_depth': [4,8,10,12],'n_estimators': [20,40]}\n",
    "parameters_=list((dict(zip(parameters, x)) for x in itertools.product(*parameters.values())))"
   ]
  },
  {
   "cell_type": "code",
   "execution_count": 6,
   "metadata": {},
   "outputs": [],
   "source": [
    "d=np.array(data_) # transorm the dataset into numpy matrix \n",
    "roll=100 # define a rolling window for model fitting"
   ]
  },
  {
   "cell_type": "code",
   "execution_count": 7,
   "metadata": {},
   "outputs": [
    {
     "name": "stderr",
     "output_type": "stream",
     "text": [
      "100%|██████████| 3049/3049 [01:27<00:00, 34.92it/s]\n"
     ]
    },
    {
     "name": "stdout",
     "output_type": "stream",
     "text": [
      "0.089427238880926 {'random_state': 100, 'max_depth': 4, 'n_estimators': 20}\n"
     ]
    },
    {
     "name": "stderr",
     "output_type": "stream",
     "text": [
      "100%|██████████| 3049/3049 [02:32<00:00, 19.96it/s]\n"
     ]
    },
    {
     "name": "stdout",
     "output_type": "stream",
     "text": [
      "0.08907483433331322 {'random_state': 100, 'max_depth': 4, 'n_estimators': 40}\n"
     ]
    },
    {
     "name": "stderr",
     "output_type": "stream",
     "text": [
      "100%|██████████| 3049/3049 [00:39<00:00, 77.71it/s]\n"
     ]
    },
    {
     "name": "stdout",
     "output_type": "stream",
     "text": [
      "0.09061612915346963 {'random_state': 100, 'max_depth': 8, 'n_estimators': 20}\n"
     ]
    },
    {
     "name": "stderr",
     "output_type": "stream",
     "text": [
      "100%|██████████| 3049/3049 [01:13<00:00, 41.33it/s]\n"
     ]
    },
    {
     "name": "stdout",
     "output_type": "stream",
     "text": [
      "0.09677554965449649 {'random_state': 100, 'max_depth': 8, 'n_estimators': 40}\n"
     ]
    },
    {
     "name": "stderr",
     "output_type": "stream",
     "text": [
      "100%|██████████| 3049/3049 [00:37<00:00, 80.28it/s]\n"
     ]
    },
    {
     "name": "stdout",
     "output_type": "stream",
     "text": [
      "0.09079908308287721 {'random_state': 100, 'max_depth': 10, 'n_estimators': 20}\n"
     ]
    },
    {
     "name": "stderr",
     "output_type": "stream",
     "text": [
      "100%|██████████| 3049/3049 [01:13<00:00, 41.23it/s]\n"
     ]
    },
    {
     "name": "stdout",
     "output_type": "stream",
     "text": [
      "0.0951668871973804 {'random_state': 100, 'max_depth': 10, 'n_estimators': 40}\n"
     ]
    },
    {
     "name": "stderr",
     "output_type": "stream",
     "text": [
      "100%|██████████| 3049/3049 [00:42<00:00, 72.44it/s]\n"
     ]
    },
    {
     "name": "stdout",
     "output_type": "stream",
     "text": [
      "0.09224591663016006 {'random_state': 100, 'max_depth': 12, 'n_estimators': 20}\n"
     ]
    },
    {
     "name": "stderr",
     "output_type": "stream",
     "text": [
      "100%|██████████| 3049/3049 [01:12<00:00, 42.07it/s]"
     ]
    },
    {
     "name": "stdout",
     "output_type": "stream",
     "text": [
      "0.09764736813271888 {'random_state': 100, 'max_depth': 12, 'n_estimators': 40}\n"
     ]
    },
    {
     "name": "stderr",
     "output_type": "stream",
     "text": [
      "\n"
     ]
    },
    {
     "data": {
      "text/plain": [
       "{'random_state': 100, 'max_depth': 12, 'n_estimators': 40}"
      ]
     },
     "execution_count": 7,
     "metadata": {},
     "output_type": "execute_result"
    }
   ],
   "source": [
    "# train RF and find the best hyperparameter:\n",
    "accuracy=[]\n",
    "for param in parameters_:\n",
    "    pr=[]\n",
    "    model=RandomForestClassifier(**param)\n",
    "    for i in tqdm(range(roll,len(df_train))):\n",
    "        try:\n",
    "            X_test=np.round(np.median(d[np.where(np.logical_and(d[:i,1]==d[i,1],d[:i,0]==d[i,0]))][-3:],axis=0))[:-1].reshape(1, -1)\n",
    "        \n",
    "            model.fit(d[i-roll:i,:-1],d[i-roll:i,-1])    \n",
    "            pr.append(np.array([d[i,-1],model.predict(X_test)[0]]))\n",
    "\n",
    "        except:\n",
    "            pr.append(np.array([d[i,-1],float('Nan')]))\n",
    "        \n",
    "    results=pd.DataFrame(pr,columns=['Actual','Predicted'])\n",
    "        \n",
    "    accuracy.append(balanced_accuracy_score(results.dropna()['Actual'],results.dropna()['Predicted']))\n",
    "    print(accuracy[-1],param)\n",
    "\n",
    "best_param = parameters_[np.argmax(accuracy)]\n",
    "best_param\n",
    "\n",
    "\n"
   ]
  },
  {
   "cell_type": "markdown",
   "metadata": {},
   "source": [
    "# Model evaluation"
   ]
  },
  {
   "cell_type": "code",
   "execution_count": 8,
   "metadata": {},
   "outputs": [
    {
     "name": "stderr",
     "output_type": "stream",
     "text": [
      "100%|██████████| 17846/17846 [07:11<00:00, 41.39it/s]\n"
     ]
    }
   ],
   "source": [
    "# evaluate model performance with test data\n",
    "pr=[]\n",
    "\n",
    "for i in tqdm(range(len(df_train),len(data_))):\n",
    "    try:\n",
    "        X_test=np.round(np.median(d[np.where(np.logical_and(d[:i,1]==d[i,1],d[:i,0]==d[i,0]))][-3:],axis=0))[:-1].reshape(1, -1)\n",
    "        model=RandomForestClassifier(**best_param)\n",
    "        model.fit(d[i-roll:i,:-1],d[i-roll:i,-1])\n",
    "        \n",
    "        pr.append(np.array([d[i,-1],model.predict(X_test)[0]]))\n",
    "\n",
    "    except:\n",
    "        pr.append(np.array([d[i,-1],float('Nan')]))\n",
    " \n",
    "results=pd.DataFrame(pr,columns=['Actual','Predicted'])"
   ]
  },
  {
   "cell_type": "code",
   "execution_count": 9,
   "metadata": {},
   "outputs": [
    {
     "data": {
      "image/png": "[encoded data removed]",
      "text/plain": [
       "<Figure size 432x288 with 1 Axes>"
      ]
     },
     "metadata": {
      "needs_background": "light"
     },
     "output_type": "display_data"
    }
   ],
   "source": [
    "# display a violinplot to see the accuracy of predictions:\n",
    "\n",
    "sns.violinplot(data=results,x='Predicted',y='Actual')\n",
    "plt.axhline(0)\n",
    "plt.ylabel('Actual')\n",
    "plt.xlabel('Predicted')\n",
    "plt.title('Away minus Home goals')\n",
    "plt.show()"
   ]
  },
  {
   "cell_type": "code",
   "execution_count": 10,
   "metadata": {},
   "outputs": [],
   "source": [
    "dd=data[['B365H','B365A']].iloc[len(df_train):-1].dropna()\n",
    "rr=results.reset_index(drop=True).join(dd.reset_index(drop=True))\n"
   ]
  },
  {
   "cell_type": "code",
   "execution_count": 27,
   "metadata": {},
   "outputs": [
    {
     "name": "stdout",
     "output_type": "stream",
     "text": [
      "Mean <-2 odd:  2.7515533980582494\n",
      "Mean <-2 implied probability:  0.3634310715923931\n",
      "TP/(TP+FP):  0.627831715210356\n",
      "--------\n",
      "Mean >2 odd:  4.588035714285714\n",
      "Mean >2 implied probability:  0.21795819873117195\n",
      "TP/(TP+FP):  0.5357142857142857\n"
     ]
    }
   ],
   "source": [
    "# Print some stats\n",
    "print('Mean <-2 odd: ',rr[rr['Predicted']<-2]['B365H'].mean())\n",
    "print('Mean <-2 implied probability: ',1/rr[rr['Predicted']<-2]['B365H'].mean())\n",
    "print('TP/(TP+FP): ',rr[np.logical_and(rr['Predicted']<-2,rr['Actual']<0)].shape[0]/rr[rr['Predicted']<-2].shape[0])\n",
    "print('--------')\n",
    "\n",
    "print('Mean >2 odd: ',rr[rr['Predicted']>2]['B365A'].mean())\n",
    "print('Mean >2 implied probability: ',1/(rr[rr['Predicted']>2]['B365A'].mean()))\n",
    "print('TP/(TP+FP): ',rr[np.logical_and(rr['Predicted']>2,rr['Actual']>0)].shape[0]/rr[rr['Predicted']>2].shape[0])\n"
   ]
  },
  {
   "cell_type": "markdown",
   "metadata": {},
   "source": [
    "# Strategy backtest\n",
    "\n",
    "* When predicted >=2 and odd for Away win >1/0.53 --> Bet on away team\n",
    "* When predicted <=-2 and odd for Home win >1/0.6 --> Bet on home team"
   ]
  },
  {
   "cell_type": "code",
   "execution_count": 29,
   "metadata": {},
   "outputs": [
    {
     "data": {
      "text/plain": [
       "1.6129032258064517"
      ]
     },
     "execution_count": 29,
     "metadata": {},
     "output_type": "execute_result"
    }
   ],
   "source": [
    "1/0.62"
   ]
  },
  {
   "cell_type": "code",
   "execution_count": 31,
   "metadata": {},
   "outputs": [],
   "source": [
    "# backtest the strategy\n",
    "ptf=pd.DataFrame(100,columns=['Wealth'],index=rr.index)\n",
    "betted=pd.DataFrame(0,columns=['Wealth'],index=rr.index)\n",
    "bet=10\n",
    "c=0\n",
    "for a,b in rr.iterrows():\n",
    "\n",
    "    if (b['Predicted']>2)and(b['B365A']>1/0.53):\n",
    "        betted.iloc[a]=betted.iloc[a-1]+bet\n",
    "        c+=1\n",
    "        if b['Predicted']>0:\n",
    "            ptf.iloc[a]=ptf.iloc[a-1]+b['B365A']*bet\n",
    "            \n",
    "        else:\n",
    "            ptf.iloc[a]=ptf.iloc[a-1]-bet\n",
    "    if b['Predicted']<-2 and (b['B365H']>1/0.62):\n",
    "        betted.iloc[a]=betted.iloc[a-1]+bet\n",
    "        c+=1\n",
    "        if b['Actual']<0:\n",
    "            ptf.iloc[a]=ptf.iloc[a-1]+b['B365H']*bet\n",
    "            \n",
    "        else:\n",
    "            ptf.iloc[a]=ptf.iloc[a-1]-bet\n",
    "    else:\n",
    "        betted.iloc[a]=betted.iloc[a-1]\n",
    "        ptf.iloc[a]=ptf.iloc[a-1]\n"
   ]
  },
  {
   "cell_type": "code",
   "execution_count": 32,
   "metadata": {},
   "outputs": [
    {
     "name": "stdout",
     "output_type": "stream",
     "text": [
      "Number of bets:  619\n"
     ]
    }
   ],
   "source": [
    "print('Number of bets: ', c)"
   ]
  },
  {
   "cell_type": "code",
   "execution_count": 33,
   "metadata": {},
   "outputs": [
    {
     "data": {
      "image/png": "[encoded data removed]",
      "text/plain": [
       "<Figure size 432x288 with 1 Axes>"
      ]
     },
     "metadata": {
      "needs_background": "light"
     },
     "output_type": "display_data"
    }
   ],
   "source": [
    "ptf.index=data_.iloc[len(df_train):].index\n",
    "betted.index=data_.iloc[len(df_train):].index\n",
    "\n",
    "plt.plot(ptf,label='Wealth index')\n",
    "plt.plot(betted,label='Cumulative bets')\n",
    "plt.legend()\n",
    "plt.show()"
   ]
  },
  {
   "cell_type": "code",
   "execution_count": 34,
   "metadata": {},
   "outputs": [
    {
     "data": {
      "image/png": "[encoded data removed]",
      "text/plain": [
       "<Figure size 432x288 with 1 Axes>"
      ]
     },
     "metadata": {
      "needs_background": "light"
     },
     "output_type": "display_data"
    }
   ],
   "source": [
    "plt.plot(ptf-betted)\n",
    "plt.title('Total bet P&L')\n",
    "plt.show()"
   ]
  },
  {
   "cell_type": "code",
   "execution_count": 35,
   "metadata": {},
   "outputs": [
    {
     "data": {
      "image/png": "[encoded data removed]",
      "text/plain": [
       "<Figure size 432x288 with 1 Axes>"
      ]
     },
     "metadata": {
      "needs_background": "light"
     },
     "output_type": "display_data"
    }
   ],
   "source": [
    "plt.plot(ptf-ptf.cummax())\n",
    "plt.title('Drawdown')\n",
    "plt.show()"
   ]
  },
  {
   "cell_type": "code",
   "execution_count": null,
   "metadata": {},
   "outputs": [],
   "source": []
  }
 ],
 "metadata": {
  "kernelspec": {
   "display_name": "Python 3.9.12 ('base')",
   "language": "python",
   "name": "python3"
  },
  "language_info": {
   "codemirror_mode": {
    "name": "ipython",
    "version": 3
   },
   "file_extension": ".py",
   "mimetype": "text/x-python",
   "name": "python",
   "nbconvert_exporter": "python",
   "pygments_lexer": "ipython3",
   "version": "3.9.12"
  },
  "orig_nbformat": 4,
  "vscode": {
   "interpreter": {
    "hash": "4f7527b0034a603a2f6ced09004f8a888be406f0f25f6fb9b2bc8cc71cf9bc4b"
   }
  }
 },
 "nbformat": 4,
 "nbformat_minor": 2
}
